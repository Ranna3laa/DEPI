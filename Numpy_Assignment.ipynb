{
  "nbformat": 4,
  "nbformat_minor": 0,
  "metadata": {
    "colab": {
      "provenance": [],
      "collapsed_sections": [
        "VclOmJvXwoik",
        "_NT7OgFcxiAg",
        "Jilr76MUyuO6",
        "mQeY5_qDzdkQ",
        "dEcsHDoS0If9"
      ]
    },
    "kernelspec": {
      "name": "python3",
      "display_name": "Python 3"
    },
    "language_info": {
      "name": "python"
    }
  },
  "cells": [
    {
      "cell_type": "markdown",
      "source": [
        "# ***Rana Alaa Ahmed***\n"
      ],
      "metadata": {
        "id": "Zsh1itJ_xlWe"
      }
    },
    {
      "cell_type": "code",
      "execution_count": 1,
      "metadata": {
        "id": "X07S5Co1wYij"
      },
      "outputs": [],
      "source": [
        "import numpy as np"
      ]
    },
    {
      "cell_type": "markdown",
      "source": [
        "#1. Broadcasting\n",
        "---"
      ],
      "metadata": {
        "id": "VclOmJvXwoik"
      }
    },
    {
      "cell_type": "markdown",
      "source": [
        "## a) Add a 1D array `[1, 2, 3]` to each row of a 2D array `[[10, 20, 30], [40, 50, 60]]`.\n",
        "### Expected: `[[11, 22, 33], [41, 52, 63]]`"
      ],
      "metadata": {
        "id": "BCaSo30NwvaT"
      }
    },
    {
      "cell_type": "code",
      "source": [
        "arr1 = np.array([1, 2, 3])\n",
        "arr2 = np.array([[10, 20, 30], [40, 50, 60]])\n",
        "print(arr1 + arr2)"
      ],
      "metadata": {
        "colab": {
          "base_uri": "https://localhost:8080/"
        },
        "id": "mDN3L23hwhrf",
        "outputId": "9b72de35-7548-4a06-a1d3-db9518de7267"
      },
      "execution_count": 3,
      "outputs": [
        {
          "output_type": "stream",
          "name": "stdout",
          "text": [
            "[[11 22 33]\n",
            " [41 52 63]]\n"
          ]
        }
      ]
    },
    {
      "cell_type": "markdown",
      "source": [
        "## b) Multiply a 2D array `[[1, 2], [3, 4]]` by a 1D array `[10, 20]` column-wise.\n",
        "### Expected: `[[10, 20], [60, 80]]`"
      ],
      "metadata": {
        "id": "O92lOv85w9tS"
      }
    },
    {
      "cell_type": "code",
      "source": [
        "arr1 = np.array([[1, 2], [3, 4]])\n",
        "arr2 = np.array([10, 20])\n",
        "print(arr1 * arr2.reshape(-1, 1))"
      ],
      "metadata": {
        "colab": {
          "base_uri": "https://localhost:8080/"
        },
        "id": "CVMPTiHEw1kK",
        "outputId": "ab33b057-75ff-4be6-8e1b-25d15fd350e3"
      },
      "execution_count": 4,
      "outputs": [
        {
          "output_type": "stream",
          "name": "stdout",
          "text": [
            "[[10 20]\n",
            " [60 80]]\n"
          ]
        }
      ]
    },
    {
      "cell_type": "markdown",
      "source": [
        "# 2. Indexing and Slicing (High Dimensional Arrays)\n",
        "---"
      ],
      "metadata": {
        "id": "_NT7OgFcxiAg"
      }
    },
    {
      "cell_type": "code",
      "source": [
        "arr = np.arange(1, 25).reshape(2, 3, 4)\n",
        "print(arr)"
      ],
      "metadata": {
        "colab": {
          "base_uri": "https://localhost:8080/"
        },
        "id": "w-k8S923xcW2",
        "outputId": "9b590242-a2e7-47d2-9237-0a7a583ba4e3"
      },
      "execution_count": 5,
      "outputs": [
        {
          "output_type": "stream",
          "name": "stdout",
          "text": [
            "[[[ 1  2  3  4]\n",
            "  [ 5  6  7  8]\n",
            "  [ 9 10 11 12]]\n",
            "\n",
            " [[13 14 15 16]\n",
            "  [17 18 19 20]\n",
            "  [21 22 23 24]]]\n"
          ]
        }
      ]
    },
    {
      "cell_type": "markdown",
      "source": [
        "## a) Extract the second slice along axis `0`.\n",
        "### Expected: `[[13, 14, 15, 16], [17, 18, 19, 20], [21, 22, 23, 24]]`"
      ],
      "metadata": {
        "id": "2Q7Q29aCx8EA"
      }
    },
    {
      "cell_type": "code",
      "source": [
        "print(arr[1,:,:])"
      ],
      "metadata": {
        "colab": {
          "base_uri": "https://localhost:8080/"
        },
        "id": "GBkZhfepx54D",
        "outputId": "7e2c3913-f917-4877-8fe0-9a2cb0c119fc"
      },
      "execution_count": 6,
      "outputs": [
        {
          "output_type": "stream",
          "name": "stdout",
          "text": [
            "[[13 14 15 16]\n",
            " [17 18 19 20]\n",
            " [21 22 23 24]]\n"
          ]
        }
      ]
    },
    {
      "cell_type": "markdown",
      "source": [
        "## b) Extract all rows and the last column for all slices.\n",
        "### Expected: `[[4, 8, 12], [16, 20, 24]]`"
      ],
      "metadata": {
        "id": "7C0btp8YyLDb"
      }
    },
    {
      "cell_type": "code",
      "source": [
        "print(arr[:, :, -1])"
      ],
      "metadata": {
        "colab": {
          "base_uri": "https://localhost:8080/"
        },
        "id": "gHA0KB_3yIMh",
        "outputId": "b74a919f-2ba3-4169-bda4-84bedf19c499"
      },
      "execution_count": 7,
      "outputs": [
        {
          "output_type": "stream",
          "name": "stdout",
          "text": [
            "[[ 4  8 12]\n",
            " [16 20 24]]\n"
          ]
        }
      ]
    },
    {
      "cell_type": "markdown",
      "source": [
        "## c) Reverse the order of slices along axis `0`.\n",
        "### Expected: `[[[13, 14, 15, 16], ...], [[1, 2, 3, 4], ...]]`"
      ],
      "metadata": {
        "id": "s4ZwTK4YyTim"
      }
    },
    {
      "cell_type": "code",
      "source": [
        "print(arr[::-1])"
      ],
      "metadata": {
        "colab": {
          "base_uri": "https://localhost:8080/"
        },
        "id": "E648cXBNySvY",
        "outputId": "017e1e84-147f-4070-8752-0cd32a6b5df9"
      },
      "execution_count": 8,
      "outputs": [
        {
          "output_type": "stream",
          "name": "stdout",
          "text": [
            "[[[13 14 15 16]\n",
            "  [17 18 19 20]\n",
            "  [21 22 23 24]]\n",
            "\n",
            " [[ 1  2  3  4]\n",
            "  [ 5  6  7  8]\n",
            "  [ 9 10 11 12]]]\n"
          ]
        }
      ]
    },
    {
      "cell_type": "markdown",
      "source": [
        "## d) Set all even elements in the array to `-1`.\n",
        "### Expected: All even numbers replaced by `-1`."
      ],
      "metadata": {
        "id": "sR-50aOOykdv"
      }
    },
    {
      "cell_type": "code",
      "source": [
        "arr[arr % 2 == 0] = -1\n",
        "print(arr)"
      ],
      "metadata": {
        "colab": {
          "base_uri": "https://localhost:8080/"
        },
        "id": "wmZqQKGZyfpI",
        "outputId": "4663435d-d66d-4cc6-b58f-d20ee0b2237b"
      },
      "execution_count": 9,
      "outputs": [
        {
          "output_type": "stream",
          "name": "stdout",
          "text": [
            "[[[ 1 -1  3 -1]\n",
            "  [ 5 -1  7 -1]\n",
            "  [ 9 -1 11 -1]]\n",
            "\n",
            " [[13 -1 15 -1]\n",
            "  [17 -1 19 -1]\n",
            "  [21 -1 23 -1]]]\n"
          ]
        }
      ]
    },
    {
      "cell_type": "markdown",
      "source": [
        "# 3. np.repeat\n",
        "---"
      ],
      "metadata": {
        "id": "Jilr76MUyuO6"
      }
    },
    {
      "cell_type": "markdown",
      "source": [
        "## a) Given `arr = np.array([1, 2, 3, 4, 5, 6])`, create a new array where every odd element is repeated twice.\n",
        "### Expected: `[1, 1, 3, 3, 5, 5]`"
      ],
      "metadata": {
        "id": "JMq2Rg7fyxTp"
      }
    },
    {
      "cell_type": "code",
      "source": [
        "arr = np.array([1, 2, 3, 4, 5, 6])\n",
        "odd_elements = arr[arr % 2 == 1]\n",
        "arr = np.repeat(odd_elements, 2)\n",
        "print(arr)"
      ],
      "metadata": {
        "colab": {
          "base_uri": "https://localhost:8080/"
        },
        "id": "iKiTIeN1ysHR",
        "outputId": "1bbf7155-53ca-44b4-9f53-8462b83be349"
      },
      "execution_count": 10,
      "outputs": [
        {
          "output_type": "stream",
          "name": "stdout",
          "text": [
            "[1 1 3 3 5 5]\n"
          ]
        }
      ]
    },
    {
      "cell_type": "markdown",
      "source": [
        "## b) Given `arr = np.array([1, 2, 3, 4, 5, 6])`, create a new array where elements are repeated based on their value.\n",
        "## For example, `1` is repeated once, `2` twice, etc.\n",
        "### Expected: `[1, 2, 2, 3, 3, 3, 4, 4, 4, 4, ...]`"
      ],
      "metadata": {
        "id": "f7RfBgR3zG8r"
      }
    },
    {
      "cell_type": "code",
      "source": [
        "arr = np.array([1, 2, 3, 4, 5, 6])\n",
        "arr = np.repeat(arr, arr)\n",
        "print(arr)"
      ],
      "metadata": {
        "colab": {
          "base_uri": "https://localhost:8080/"
        },
        "id": "blY9spfIzDix",
        "outputId": "b27046e7-ca61-405a-b20d-6299fe3b5e3e"
      },
      "execution_count": 13,
      "outputs": [
        {
          "output_type": "stream",
          "name": "stdout",
          "text": [
            "[1 2 2 3 3 3 4 4 4 4 5 5 5 5 5 6 6 6 6 6 6]\n"
          ]
        }
      ]
    },
    {
      "cell_type": "markdown",
      "source": [
        "# 4. Normalizing\n",
        "---"
      ],
      "metadata": {
        "id": "mQeY5_qDzdkQ"
      }
    },
    {
      "cell_type": "markdown",
      "source": [
        "## a) Normalize a 1D array `arr = np.array([10, 20, 30])` to have values between `0` and `1`.\n",
        "### Expected: `[0.0, 0.5, 1.0]`"
      ],
      "metadata": {
        "id": "qxI59D3fzjNZ"
      }
    },
    {
      "cell_type": "code",
      "source": [
        "arr = np.array([10, 20, 30])\n",
        "normalized_arr = (arr - arr.min()) / (arr.max() - arr.min())\n",
        "print(normalized_arr)"
      ],
      "metadata": {
        "colab": {
          "base_uri": "https://localhost:8080/"
        },
        "id": "ddl1LghizUCE",
        "outputId": "fe418537-e7a9-4b6a-cf10-346ffe3b49f8"
      },
      "execution_count": 14,
      "outputs": [
        {
          "output_type": "stream",
          "name": "stdout",
          "text": [
            "[0.  0.5 1. ]\n"
          ]
        }
      ]
    },
    {
      "cell_type": "markdown",
      "source": [
        "# 5. Bonus Challenge\n",
        "---"
      ],
      "metadata": {
        "id": "dEcsHDoS0If9"
      }
    },
    {
      "cell_type": "markdown",
      "source": [
        "## a) Create a `3x3` matrix where each element at position `(i, j)` is `i * j`.\n",
        "### Expected: `[[0, 0, 0], [0, 1, 2], [0, 2, 4]]`"
      ],
      "metadata": {
        "id": "pE3U38yD0PGv"
      }
    },
    {
      "cell_type": "code",
      "source": [
        "i = np.arange(3)\n",
        "matrix = np.outer(i, i)\n",
        "print(matrix)"
      ],
      "metadata": {
        "colab": {
          "base_uri": "https://localhost:8080/"
        },
        "id": "OT0x3Z9NzyrA",
        "outputId": "18454025-26a2-4719-dd1d-4fa789e66498"
      },
      "execution_count": 15,
      "outputs": [
        {
          "output_type": "stream",
          "name": "stdout",
          "text": [
            "[[0 0 0]\n",
            " [0 1 2]\n",
            " [0 2 4]]\n"
          ]
        }
      ]
    },
    {
      "cell_type": "markdown",
      "source": [
        "## b) Given a `4x4` matrix, replace all elements on the main diagonal with `0` without using a loop.\n",
        "### Expected: Diagonal elements replaced with `0`."
      ],
      "metadata": {
        "id": "edLLly3x0rss"
      }
    },
    {
      "cell_type": "code",
      "source": [
        "matrix = np.arange(1, 17).reshape(4, 4)\n",
        "np.fill_diagonal(matrix, 0)\n",
        "print(matrix)"
      ],
      "metadata": {
        "colab": {
          "base_uri": "https://localhost:8080/"
        },
        "id": "T8MV_Usdz7b6",
        "outputId": "fbb77200-80ed-4c97-8bc6-e420a2200c31"
      },
      "execution_count": 16,
      "outputs": [
        {
          "output_type": "stream",
          "name": "stdout",
          "text": [
            "[[ 0  2  3  4]\n",
            " [ 5  0  7  8]\n",
            " [ 9 10  0 12]\n",
            " [13 14 15  0]]\n"
          ]
        }
      ]
    },
    {
      "cell_type": "code",
      "source": [],
      "metadata": {
        "id": "peE_1Em70-aD"
      },
      "execution_count": null,
      "outputs": []
    }
  ]
}